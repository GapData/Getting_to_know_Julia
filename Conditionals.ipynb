{
 "cells": [
  {
   "cell_type": "markdown",
   "metadata": {},
   "source": [
    "# Conditionals\n",
    "\n",
    "Sometimes we're not exactly sure what we want our program to do at the time we're writing it because we don't yet have enough information.\n",
    "\n",
    "To deal with this situation, we use conditionals: we provide the computer with instructions for how to proceed in multiple possible situations. *if* a particular situation arises, we do one thing, otherwise we do something else.\n",
    "\n",
    "For example, let's say I'm thinking about making new friends, and I just ran into a group of siblings who seem like reasonable prospects."
   ]
  },
  {
   "cell_type": "code",
   "execution_count": null,
   "metadata": {
    "collapsed": true
   },
   "outputs": [],
   "source": [
    "myfriends = []"
   ]
  },
  {
   "cell_type": "code",
   "execution_count": null,
   "metadata": {
    "collapsed": true
   },
   "outputs": [],
   "source": [
    "possiblefriends = [\"Jane\", \"Elizabeth\", \"Mary\", \"Kitty\", \"Lydia\"]"
   ]
  },
  {
   "cell_type": "markdown",
   "metadata": {},
   "source": [
    "The trouble is that I'm a little touchy about sharing my name with friends. So, I'll have to vet my prospects before adding them to `myfriends`."
   ]
  },
  {
   "cell_type": "code",
   "execution_count": null,
   "metadata": {
    "collapsed": true
   },
   "outputs": [],
   "source": [
    "myname = \"Jane\""
   ]
  },
  {
   "cell_type": "code",
   "execution_count": null,
   "metadata": {
    "collapsed": true
   },
   "outputs": [],
   "source": [
    "for prospect in possiblefriends\n",
    "    if prospect == myname\n",
    "        println(\"I refuse to befriend another Jane.\")\n",
    "    else\n",
    "        println(\"I made a new friend!\")\n",
    "        push!(myfriends, prospect)\n",
    "    end     \n",
    "end"
   ]
  },
  {
   "cell_type": "markdown",
   "metadata": {},
   "source": [
    "In the above code, `==` checks for equality and the condition `prospect == myname` evaluates to true only if `prospect` and `myname` are the same.\n",
    "\n",
    "The code inside the `if` block is executed only if this condition is met.\n",
    "\n",
    "So what happened?"
   ]
  },
  {
   "cell_type": "code",
   "execution_count": null,
   "metadata": {
    "collapsed": true
   },
   "outputs": [],
   "source": [
    "myfriends"
   ]
  },
  {
   "cell_type": "markdown",
   "metadata": {},
   "source": [
    "It looks like I made four new friends. :)"
   ]
  }
 ],
 "metadata": {
  "kernelspec": {
   "display_name": "Julia 0.6.0",
   "language": "julia",
   "name": "julia-0.6"
  },
  "language_info": {
   "file_extension": ".jl",
   "mimetype": "application/julia",
   "name": "julia",
   "version": "0.6.0"
  }
 },
 "nbformat": 4,
 "nbformat_minor": 2
}
