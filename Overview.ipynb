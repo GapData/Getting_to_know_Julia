{
 "cells": [
  {
   "cell_type": "markdown",
   "metadata": {},
   "source": [
    "# Hello!\n",
    "\n",
    "The purpose of this tutorial is to help you to get to know Julia. We'll start by introducing you to key functionality that will help anyone get started. Here's an outline of the sections you'll find:\n",
    "\n",
    "1. Variables\n",
    "2. Loops\n",
    "3. Conditionals\n",
    "4. Functions\n",
    "5. Strings\n",
    "6. I/O\n",
    "7. Plotting\n",
    "8. Linear Algebra\n",
    "\n",
    "If this is your first time working with a jupyter notebook, have no fear! You can execute any cell simply by hitting `shift` + `enter`, by selecting `Run Cells` under `Cell` on the menu bar, or by clicking the icon with a `play` arrow on the line under the menu bar."
   ]
  }
 ],
 "metadata": {
  "kernelspec": {
   "display_name": "Julia 0.6.0",
   "language": "julia",
   "name": "julia-0.6"
  },
  "language_info": {
   "file_extension": ".jl",
   "mimetype": "application/julia",
   "name": "julia",
   "version": "0.6.0"
  }
 },
 "nbformat": 4,
 "nbformat_minor": 2
}
