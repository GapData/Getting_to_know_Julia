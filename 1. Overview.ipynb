{
 "cells": [
  {
   "cell_type": "markdown",
   "metadata": {},
   "source": [
    "# Hello!\n",
    "\n",
    "The purpose of this tutorial is to help you to get to know Julia. We'll start by introducing you to key functionality that will help anyone get started and then progress to more advanced topics. Here's an outline of the sections you'll find:\n",
    "\n",
    "1. Storing data: Variables, Arrays, and Dictionaries\n",
    "2. Loops\n",
    "3. Conditionals\n",
    "4. Functions\n",
    "5. Strings (Coming soon)\n",
    "6. I/O (Coming soon)\n",
    "7. Packages (Coming soon)\n",
    "8. Plotting (Coming soon)\n",
    "9. Linear Algebra (Coming soon)\n",
    "10. Scoping (Coming soon)\n",
    "\n",
    "If this is your first time working with a Jupyter notebook, have no fear! You can execute any cell simply by hitting `shift` + `enter`, by selecting `Run Cells` under `Cell` on the menu bar, or by clicking the icon with a `play` arrow on the line under the menu bar.\n",
    "\n",
    "If you want to look up the documentation for any Julia command or keyword either at the REPL or from within a Jupyter notebook, just precede the name of that command with a question mark before executing that line of code. For example,"
   ]
  },
  {
   "cell_type": "code",
   "execution_count": null,
   "metadata": {
    "collapsed": true
   },
   "outputs": [],
   "source": [
    "?while"
   ]
  }
 ],
 "metadata": {
  "kernelspec": {
   "display_name": "Julia 0.6.0",
   "language": "julia",
   "name": "julia-0.6"
  },
  "language_info": {
   "file_extension": ".jl",
   "mimetype": "application/julia",
   "name": "julia",
   "version": "0.6.0"
  }
 },
 "nbformat": 4,
 "nbformat_minor": 2
}
